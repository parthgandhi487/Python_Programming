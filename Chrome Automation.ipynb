{
 "cells": [
  {
   "cell_type": "code",
   "execution_count": 1,
   "metadata": {},
   "outputs": [],
   "source": [
    "import webbrowser as wb"
   ]
  },
  {
   "cell_type": "code",
   "execution_count": 6,
   "metadata": {},
   "outputs": [
    {
     "name": "stdout",
     "output_type": "stream",
     "text": [
      "https://github.com/parthgandhi487\n",
      "stackoverflow.com\n",
      "https://www.youtube.com/user/krishnaik06/playlists\n",
      "google.com\n",
      "gmail.com\n"
     ]
    }
   ],
   "source": [
    "def webauto():\n",
    "    chrome_path='C:\\Program Files (x86)\\Google\\Chrome\\Application\\chrome.exe %s' #adding the path of chrome\n",
    "    URLS=( \"https://github.com/parthgandhi487\",\n",
    "          \"stackoverflow.com\",\n",
    "          \"https://www.youtube.com/user/krishnaik06/playlists\",\n",
    "          \"google.com\",\n",
    "          \"gmail.com\"\n",
    "    )\n",
    "    for url in URLS:\n",
    "        print(url)\n",
    "        wb.get(chrome_path).open(url)\n",
    "        \n",
    "webauto()"
   ]
  },
  {
   "cell_type": "code",
   "execution_count": null,
   "metadata": {},
   "outputs": [],
   "source": []
  }
 ],
 "metadata": {
  "kernelspec": {
   "display_name": "Python 3",
   "language": "python",
   "name": "python3"
  },
  "language_info": {
   "codemirror_mode": {
    "name": "ipython",
    "version": 3
   },
   "file_extension": ".py",
   "mimetype": "text/x-python",
   "name": "python",
   "nbconvert_exporter": "python",
   "pygments_lexer": "ipython3",
   "version": "3.7.4"
  }
 },
 "nbformat": 4,
 "nbformat_minor": 4
}
