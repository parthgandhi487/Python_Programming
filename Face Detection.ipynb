{
 "cells": [
  {
   "cell_type": "code",
   "execution_count": null,
   "metadata": {},
   "outputs": [],
   "source": [
    "import cv2\n",
    "face_cascade=cv2.CascadeClassifier(\"haarcascade_frontalcatface.xml\")\n",
    "\n",
    "def detect():\n",
    "    cap=cv2.VideoCapture(0)\n",
    "    \n",
    "    while True :\n",
    "        _,img=cap.read()\n",
    "        \n",
    "        gray=cv2.cvtColor(img,cv2.COLOR_BGR2GRAY)\n",
    "        face=face_cascade.detectMultiScale(gray,1.1,4)\n",
    "        \n",
    "        for (x,y,w,h) in face :\n",
    "            cv2.rectangle(img,(x,y),(x+w,y+h),(0,255,0),2)\n",
    "            \n",
    "        cv2.imshow(\"Face Detected\",img)\n",
    "        if cv2.waitKey(1)==27:\n",
    "            break\n",
    "            \n",
    "    cap.release()\n",
    "    \n",
    "detect()\n",
    "            \n",
    "            \n",
    "        "
   ]
  },
  {
   "cell_type": "code",
   "execution_count": null,
   "metadata": {},
   "outputs": [],
   "source": []
  }
 ],
 "metadata": {
  "kernelspec": {
   "display_name": "Python 3",
   "language": "python",
   "name": "python3"
  },
  "language_info": {
   "codemirror_mode": {
    "name": "ipython",
    "version": 3
   },
   "file_extension": ".py",
   "mimetype": "text/x-python",
   "name": "python",
   "nbconvert_exporter": "python",
   "pygments_lexer": "ipython3",
   "version": "3.7.4"
  }
 },
 "nbformat": 4,
 "nbformat_minor": 4
}
