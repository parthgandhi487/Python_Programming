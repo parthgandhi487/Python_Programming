{
 "cells": [
  {
   "cell_type": "code",
   "execution_count": 1,
   "metadata": {},
   "outputs": [],
   "source": [
    "import smtplib"
   ]
  },
  {
   "cell_type": "code",
   "execution_count": 2,
   "metadata": {},
   "outputs": [],
   "source": [
    "def prompt(prompt):\n",
    "    return input(prompt).strip()"
   ]
  },
  {
   "cell_type": "code",
   "execution_count": null,
   "metadata": {},
   "outputs": [
    {
     "name": "stdout",
     "output_type": "stream",
     "text": [
      "From:parthgandhi487@gmail.com\n",
      "To:xyz@gmail.com\n",
      "Enter msg,end with^D(unix) or ^Z(Windows):\n",
      "hi, how are you ? hope you are good\n",
      "in this corona period\n",
      "advise you to be safe and stay safe at home\n",
      "dfs\n",
      "adfas\n",
      "fadsf\n",
      "adsfdasf\n",
      "dsaf\n",
      "dsaf\n",
      "dsaf\n",
      "dsf\n",
      "dsf\n",
      "dsf\n",
      "sdaf\n",
      "sdafas\n",
      "ads\n",
      "fdsafds\n",
      "afas\n",
      "fsdf\n",
      "fasd\n",
      "fdsa\n",
      "fsd\n",
      "fsd\n"
     ]
    }
   ],
   "source": [
    "fromaddr=prompt(\"From:\")\n",
    "toaddrs=prompt(\"To:\").split()\n",
    "print(\"Enter msg,end with^D(unix) or ^Z(Windows):\")\n",
    "\n",
    "# Add from and to headers at the start!\n",
    "\n",
    "msg=(\"From : %s\\r\\nTo:%s\\r\\n\\r\\n\"%(fromaddr,\",\".join(toaddrs)))\n",
    "\n",
    "while True :\n",
    "    try:\n",
    "        line=input()\n",
    "    except EOFError:\n",
    "        break\n",
    "    if not line:\n",
    "        break\n",
    "    msg=msg+line\n",
    "    \n",
    "print(\"msg lenght is\",len(msg))\n",
    "\n",
    "server=smtplib.SMTP('localhost')\n",
    "server.set_set_debuglevel(1)\n",
    "server.sendmail(fromaddr,toaddrs,msg)\n",
    "server.quit()"
   ]
  },
  {
   "cell_type": "code",
   "execution_count": null,
   "metadata": {},
   "outputs": [],
   "source": []
  }
 ],
 "metadata": {
  "kernelspec": {
   "display_name": "Python 3",
   "language": "python",
   "name": "python3"
  },
  "language_info": {
   "codemirror_mode": {
    "name": "ipython",
    "version": 3
   },
   "file_extension": ".py",
   "mimetype": "text/x-python",
   "name": "python",
   "nbconvert_exporter": "python",
   "pygments_lexer": "ipython3",
   "version": "3.7.4"
  }
 },
 "nbformat": 4,
 "nbformat_minor": 4
}
