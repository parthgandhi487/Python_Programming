{
 "cells": [
  {
   "cell_type": "markdown",
   "metadata": {},
   "source": [
    "## Faulty Multiplications"
   ]
  },
  {
   "cell_type": "code",
   "execution_count": 1,
   "metadata": {},
   "outputs": [
    {
     "name": "stdout",
     "output_type": "stream",
     "text": [
      "[7, 14, 21, 28, 35, 42, 49, 56, 63, 75]\n"
     ]
    }
   ],
   "source": [
    "#faulty multiplication table\n",
    "\n",
    "# intt = 2\n",
    "import random\n",
    "def multiplication(number):\n",
    "    wrong = random.randint(0,9)\n",
    "    table = [i*number for i in range (1,11)]\n",
    "    table[wrong] = table[wrong]+random.randint(0,10)\n",
    "    return table\n",
    "if __name__ == \"__main__\":\n",
    "    print(multiplication(7))"
   ]
  },
  {
   "cell_type": "markdown",
   "metadata": {},
   "source": [
    "## Search Engine in Python"
   ]
  },
  {
   "cell_type": "code",
   "execution_count": 2,
   "metadata": {},
   "outputs": [
    {
     "name": "stdout",
     "output_type": "stream",
     "text": [
      "Please enter the query string\n",
      "\"python is a good\", \"this is snake\",\"harry is a good boy\"\n",
      "3 results found!\n",
      " \"python is a good\": with a score of 6\n",
      " \"harry is a good boy\": with a score of 6\n",
      " \"this is snake\": with a score of 3\n"
     ]
    }
   ],
   "source": [
    "'''\n",
    "You are given few sentences as a list (Python list of sentences). Take a query string as an input from the user. \n",
    "You have to pull out the sentences matching this query inputted by the user in decreasing order of relevance after \n",
    "converting every word in the query and the sentence to lowercase. Most relevant sentence is the one with the maximum \n",
    "number of matching words with the query. \n",
    "Sentences = [“This is good”, “python is good”, “python is not python snake”]\n",
    "\n",
    "Input:\n",
    "Please input your query string\n",
    "“Python is”\n",
    "\n",
    "Output:\n",
    "3 results found:\n",
    "1.\tpython is not python snake\n",
    "2.\tpython is good\n",
    "3.\tThis is good\n",
    "'''\n",
    "\n",
    "\n",
    "def mathingWords(sentence1, sentence2):\n",
    "    words1 = sentence1.strip().split(\" \")\n",
    "    words2 = sentence2.strip().split(\" \")\n",
    "    score = 0\n",
    "    for word1 in words1:\n",
    "        for word2 in words2:\n",
    "            # print(f\"Matching {word1} with {word2}\")\n",
    "            if word1.lower() == word2.lower():\n",
    "                score += 1\n",
    "    return score\n",
    "\n",
    "\n",
    "if __name__ == \"__main__\":\n",
    "    # mathingWords(\"This is good\", \"python is good\")\n",
    "    sentences = [\"python is a good\", \"this is snake\",\n",
    "                 \"harry is a good boy\"]\n",
    "\n",
    "    query = input(\"Please enter the query string\\n\")\n",
    "    scores = [mathingWords(query, sentence) for sentence in sentences]\n",
    "    # print(scores)\n",
    "    sortedSentScore = [sentScore for sentScore in sorted(\n",
    "        zip(scores, sentences), reverse=True) if sentScore[0] !=0 ]\n",
    "    # print(sortedSentScore)\n",
    "\n",
    "    print(f\"{len(sortedSentScore)} results found!\")\n",
    "    for score, item in sortedSentScore:\n",
    "        print(f\" \\\"{item}\\\": with a score of {score}\")"
   ]
  },
  {
   "cell_type": "code",
   "execution_count": null,
   "metadata": {},
   "outputs": [],
   "source": []
  }
 ],
 "metadata": {
  "kernelspec": {
   "display_name": "Python 3",
   "language": "python",
   "name": "python3"
  },
  "language_info": {
   "codemirror_mode": {
    "name": "ipython",
    "version": 3
   },
   "file_extension": ".py",
   "mimetype": "text/x-python",
   "name": "python",
   "nbconvert_exporter": "python",
   "pygments_lexer": "ipython3",
   "version": "3.7.4"
  }
 },
 "nbformat": 4,
 "nbformat_minor": 4
}
