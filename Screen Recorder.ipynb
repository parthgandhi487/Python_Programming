{
 "cells": [
  {
   "cell_type": "code",
   "execution_count": 1,
   "metadata": {},
   "outputs": [],
   "source": [
    "import cv2\n",
    "import numpy as np\n",
    "from PIL import ImageGrab"
   ]
  },
  {
   "cell_type": "code",
   "execution_count": null,
   "metadata": {},
   "outputs": [],
   "source": [
    "def screenrecorder():\n",
    "    fourcc=cv2.VideoWriter_fourcc(*'XVID')\n",
    "    out=cv2.VideoWriter(\"output.avi\",fourcc,5.0,(1366,768))\n",
    "    \n",
    "    while True :\n",
    "        img=ImageGrab.grab()\n",
    "        img_np=np.array(img)\n",
    "        frame=cv2.cvtColor(img_np,cv2.COLOR_BGR2RGB)\n",
    "        cv2.imshow(\"Screenrecorder\",frame)\n",
    "        out.write(frame)\n",
    "        \n",
    "        if cv2.waitKey(1) ==27:\n",
    "            break\n",
    "        \n",
    "    out.release()\n",
    "    cv2.destroyAllWindows()\n",
    "    \n",
    "screenrecorder()\n",
    "        "
   ]
  },
  {
   "cell_type": "code",
   "execution_count": null,
   "metadata": {},
   "outputs": [],
   "source": []
  }
 ],
 "metadata": {
  "kernelspec": {
   "display_name": "Python 3",
   "language": "python",
   "name": "python3"
  },
  "language_info": {
   "codemirror_mode": {
    "name": "ipython",
    "version": 3
   },
   "file_extension": ".py",
   "mimetype": "text/x-python",
   "name": "python",
   "nbconvert_exporter": "python",
   "pygments_lexer": "ipython3",
   "version": "3.7.4"
  }
 },
 "nbformat": 4,
 "nbformat_minor": 4
}
